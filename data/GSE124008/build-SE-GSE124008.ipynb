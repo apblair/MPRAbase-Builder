{
 "cells": [
  {
   "cell_type": "code",
   "execution_count": 1,
   "id": "178088df-64f7-452d-98cb-642940ad8d0a",
   "metadata": {
    "tags": []
   },
   "outputs": [
    {
     "name": "stderr",
     "output_type": "stream",
     "text": [
      "\n",
      "Attaching package: ‘dplyr’\n",
      "\n",
      "\n",
      "The following objects are masked from ‘package:stats’:\n",
      "\n",
      "    filter, lag\n",
      "\n",
      "\n",
      "The following objects are masked from ‘package:base’:\n",
      "\n",
      "    intersect, setdiff, setequal, union\n",
      "\n",
      "\n",
      "------------------------------------------------------------------------------\n",
      "\n",
      "You have loaded plyr after dplyr - this is likely to cause problems.\n",
      "If you need functions from both plyr and dplyr, please load plyr first, then dplyr:\n",
      "library(plyr); library(dplyr)\n",
      "\n",
      "------------------------------------------------------------------------------\n",
      "\n",
      "\n",
      "Attaching package: ‘plyr’\n",
      "\n",
      "\n",
      "The following objects are masked from ‘package:dplyr’:\n",
      "\n",
      "    arrange, count, desc, failwith, id, mutate, rename, summarise,\n",
      "    summarize\n",
      "\n",
      "\n",
      "Loading required package: stats4\n",
      "\n",
      "Loading required package: BiocGenerics\n",
      "\n",
      "\n",
      "Attaching package: ‘BiocGenerics’\n",
      "\n",
      "\n",
      "The following objects are masked from ‘package:dplyr’:\n",
      "\n",
      "    combine, intersect, setdiff, union\n",
      "\n",
      "\n",
      "The following objects are masked from ‘package:stats’:\n",
      "\n",
      "    IQR, mad, sd, var, xtabs\n",
      "\n",
      "\n",
      "The following objects are masked from ‘package:base’:\n",
      "\n",
      "    anyDuplicated, aperm, append, as.data.frame, basename, cbind,\n",
      "    colnames, dirname, do.call, duplicated, eval, evalq, Filter, Find,\n",
      "    get, grep, grepl, intersect, is.unsorted, lapply, Map, mapply,\n",
      "    match, mget, order, paste, pmax, pmax.int, pmin, pmin.int,\n",
      "    Position, rank, rbind, Reduce, rownames, sapply, setdiff, sort,\n",
      "    table, tapply, union, unique, unsplit, which.max, which.min\n",
      "\n",
      "\n",
      "Loading required package: S4Vectors\n",
      "\n",
      "\n",
      "Attaching package: ‘S4Vectors’\n",
      "\n",
      "\n",
      "The following object is masked from ‘package:plyr’:\n",
      "\n",
      "    rename\n",
      "\n",
      "\n",
      "The following object is masked from ‘package:tidyr’:\n",
      "\n",
      "    expand\n",
      "\n",
      "\n",
      "The following objects are masked from ‘package:dplyr’:\n",
      "\n",
      "    first, rename\n",
      "\n",
      "\n",
      "The following objects are masked from ‘package:base’:\n",
      "\n",
      "    expand.grid, I, unname\n",
      "\n",
      "\n",
      "Loading required package: IRanges\n",
      "\n",
      "\n",
      "Attaching package: ‘IRanges’\n",
      "\n",
      "\n",
      "The following object is masked from ‘package:plyr’:\n",
      "\n",
      "    desc\n",
      "\n",
      "\n",
      "The following objects are masked from ‘package:dplyr’:\n",
      "\n",
      "    collapse, desc, slice\n",
      "\n",
      "\n",
      "Loading required package: GenomeInfoDb\n",
      "\n",
      "Loading required package: SummarizedExperiment\n",
      "\n",
      "Loading required package: MatrixGenerics\n",
      "\n",
      "Loading required package: matrixStats\n",
      "\n",
      "\n",
      "Attaching package: ‘matrixStats’\n",
      "\n",
      "\n",
      "The following object is masked from ‘package:plyr’:\n",
      "\n",
      "    count\n",
      "\n",
      "\n",
      "The following object is masked from ‘package:dplyr’:\n",
      "\n",
      "    count\n",
      "\n",
      "\n",
      "\n",
      "Attaching package: ‘MatrixGenerics’\n",
      "\n",
      "\n",
      "The following objects are masked from ‘package:matrixStats’:\n",
      "\n",
      "    colAlls, colAnyNAs, colAnys, colAvgsPerRowSet, colCollapse,\n",
      "    colCounts, colCummaxs, colCummins, colCumprods, colCumsums,\n",
      "    colDiffs, colIQRDiffs, colIQRs, colLogSumExps, colMadDiffs,\n",
      "    colMads, colMaxs, colMeans2, colMedians, colMins, colOrderStats,\n",
      "    colProds, colQuantiles, colRanges, colRanks, colSdDiffs, colSds,\n",
      "    colSums2, colTabulates, colVarDiffs, colVars, colWeightedMads,\n",
      "    colWeightedMeans, colWeightedMedians, colWeightedSds,\n",
      "    colWeightedVars, rowAlls, rowAnyNAs, rowAnys, rowAvgsPerColSet,\n",
      "    rowCollapse, rowCounts, rowCummaxs, rowCummins, rowCumprods,\n",
      "    rowCumsums, rowDiffs, rowIQRDiffs, rowIQRs, rowLogSumExps,\n",
      "    rowMadDiffs, rowMads, rowMaxs, rowMeans2, rowMedians, rowMins,\n",
      "    rowOrderStats, rowProds, rowQuantiles, rowRanges, rowRanks,\n",
      "    rowSdDiffs, rowSds, rowSums2, rowTabulates, rowVarDiffs, rowVars,\n",
      "    rowWeightedMads, rowWeightedMeans, rowWeightedMedians,\n",
      "    rowWeightedSds, rowWeightedVars\n",
      "\n",
      "\n",
      "Loading required package: Biobase\n",
      "\n",
      "Welcome to Bioconductor\n",
      "\n",
      "    Vignettes contain introductory material; view with\n",
      "    'browseVignettes()'. To cite Bioconductor, see\n",
      "    'citation(\"Biobase\")', and for packages 'citation(\"pkgname\")'.\n",
      "\n",
      "\n",
      "\n",
      "Attaching package: ‘Biobase’\n",
      "\n",
      "\n",
      "The following object is masked from ‘package:MatrixGenerics’:\n",
      "\n",
      "    rowMedians\n",
      "\n",
      "\n",
      "The following objects are masked from ‘package:matrixStats’:\n",
      "\n",
      "    anyMissing, rowMedians\n",
      "\n",
      "\n"
     ]
    }
   ],
   "source": [
    "library(dplyr)\n",
    "library(tidyr)\n",
    "library(plyr)\n",
    "library(GenomicRanges)\n",
    "library(MultiAssayExperiment)\n",
    "library(SummarizedExperiment)"
   ]
  },
  {
   "cell_type": "markdown",
   "id": "63f139db-0408-4519-a94f-b2c44e85179f",
   "metadata": {},
   "source": [
    "## Import Data"
   ]
  },
  {
   "cell_type": "code",
   "execution_count": 2,
   "id": "231d2e2d-9914-402f-916b-7cd13b0d51cd",
   "metadata": {
    "tags": []
   },
   "outputs": [],
   "source": [
    "df <- read.csv('fig-4g.tsv', sep='\\t')"
   ]
  },
  {
   "cell_type": "code",
   "execution_count": 3,
   "id": "69f6c729-cac5-44ec-a859-da6dfbb81866",
   "metadata": {
    "tags": []
   },
   "outputs": [
    {
     "data": {
      "text/html": [
       "<table class=\"dataframe\">\n",
       "<caption>A data.frame: 6 × 6</caption>\n",
       "<thead>\n",
       "\t<tr><th></th><th scope=col>Group</th><th scope=col>ID</th><th scope=col>DNA.average</th><th scope=col>DNA.rank</th><th scope=col>RNA.average</th><th scope=col>RNA.DNA.average</th></tr>\n",
       "\t<tr><th></th><th scope=col>&lt;chr&gt;</th><th scope=col>&lt;int&gt;</th><th scope=col>&lt;dbl&gt;</th><th scope=col>&lt;int&gt;</th><th scope=col>&lt;dbl&gt;</th><th scope=col>&lt;dbl&gt;</th></tr>\n",
       "</thead>\n",
       "<tbody>\n",
       "\t<tr><th scope=row>1</th><td>BNA_TF_H3K27ac</td><td>1243</td><td> 409.1824</td><td> 197</td><td> 745.1271</td><td>1.8210143</td></tr>\n",
       "\t<tr><th scope=row>2</th><td>BNA_TF_H3K27ac</td><td> 870</td><td> 364.0982</td><td>  83</td><td>1075.5732</td><td>2.9540741</td></tr>\n",
       "\t<tr><th scope=row>3</th><td>BNA_TF_H3K27ac</td><td>1088</td><td>2077.3091</td><td> 606</td><td>1360.1459</td><td>0.6547633</td></tr>\n",
       "\t<tr><th scope=row>4</th><td>BNA_TF_H3K27ac</td><td> 792</td><td> 650.6394</td><td>1469</td><td> 166.0715</td><td>0.2552435</td></tr>\n",
       "\t<tr><th scope=row>5</th><td>BNA_TF_H3K27ac</td><td> 837</td><td>2032.0055</td><td> 412</td><td>1920.5287</td><td>0.9451395</td></tr>\n",
       "\t<tr><th scope=row>6</th><td>BNA_TF_H3K27ac</td><td>1124</td><td>2094.0144</td><td>  37</td><td>8243.8435</td><td>3.9368609</td></tr>\n",
       "</tbody>\n",
       "</table>\n"
      ],
      "text/latex": [
       "A data.frame: 6 × 6\n",
       "\\begin{tabular}{r|llllll}\n",
       "  & Group & ID & DNA.average & DNA.rank & RNA.average & RNA.DNA.average\\\\\n",
       "  & <chr> & <int> & <dbl> & <int> & <dbl> & <dbl>\\\\\n",
       "\\hline\n",
       "\t1 & BNA\\_TF\\_H3K27ac & 1243 &  409.1824 &  197 &  745.1271 & 1.8210143\\\\\n",
       "\t2 & BNA\\_TF\\_H3K27ac &  870 &  364.0982 &   83 & 1075.5732 & 2.9540741\\\\\n",
       "\t3 & BNA\\_TF\\_H3K27ac & 1088 & 2077.3091 &  606 & 1360.1459 & 0.6547633\\\\\n",
       "\t4 & BNA\\_TF\\_H3K27ac &  792 &  650.6394 & 1469 &  166.0715 & 0.2552435\\\\\n",
       "\t5 & BNA\\_TF\\_H3K27ac &  837 & 2032.0055 &  412 & 1920.5287 & 0.9451395\\\\\n",
       "\t6 & BNA\\_TF\\_H3K27ac & 1124 & 2094.0144 &   37 & 8243.8435 & 3.9368609\\\\\n",
       "\\end{tabular}\n"
      ],
      "text/markdown": [
       "\n",
       "A data.frame: 6 × 6\n",
       "\n",
       "| <!--/--> | Group &lt;chr&gt; | ID &lt;int&gt; | DNA.average &lt;dbl&gt; | DNA.rank &lt;int&gt; | RNA.average &lt;dbl&gt; | RNA.DNA.average &lt;dbl&gt; |\n",
       "|---|---|---|---|---|---|---|\n",
       "| 1 | BNA_TF_H3K27ac | 1243 |  409.1824 |  197 |  745.1271 | 1.8210143 |\n",
       "| 2 | BNA_TF_H3K27ac |  870 |  364.0982 |   83 | 1075.5732 | 2.9540741 |\n",
       "| 3 | BNA_TF_H3K27ac | 1088 | 2077.3091 |  606 | 1360.1459 | 0.6547633 |\n",
       "| 4 | BNA_TF_H3K27ac |  792 |  650.6394 | 1469 |  166.0715 | 0.2552435 |\n",
       "| 5 | BNA_TF_H3K27ac |  837 | 2032.0055 |  412 | 1920.5287 | 0.9451395 |\n",
       "| 6 | BNA_TF_H3K27ac | 1124 | 2094.0144 |   37 | 8243.8435 | 3.9368609 |\n",
       "\n"
      ],
      "text/plain": [
       "  Group          ID   DNA.average DNA.rank RNA.average RNA.DNA.average\n",
       "1 BNA_TF_H3K27ac 1243  409.1824    197      745.1271   1.8210143      \n",
       "2 BNA_TF_H3K27ac  870  364.0982     83     1075.5732   2.9540741      \n",
       "3 BNA_TF_H3K27ac 1088 2077.3091    606     1360.1459   0.6547633      \n",
       "4 BNA_TF_H3K27ac  792  650.6394   1469      166.0715   0.2552435      \n",
       "5 BNA_TF_H3K27ac  837 2032.0055    412     1920.5287   0.9451395      \n",
       "6 BNA_TF_H3K27ac 1124 2094.0144     37     8243.8435   3.9368609      "
      ]
     },
     "metadata": {},
     "output_type": "display_data"
    }
   ],
   "source": [
    "head(df[,c('Group','ID','DNA.average','DNA.rank','RNA.average','RNA.DNA.average')])"
   ]
  },
  {
   "cell_type": "code",
   "execution_count": 4,
   "id": "c2233cbf-1f51-4301-ae62-7a499cb12b2b",
   "metadata": {
    "tags": []
   },
   "outputs": [
    {
     "data": {
      "text/plain": [
       "\n",
       "   BNA_H3K27ac         BNA_TF BNA_TF_H3K27ac             ES       negative \n",
       "           218             99            538            947            180 "
      ]
     },
     "metadata": {},
     "output_type": "display_data"
    }
   ],
   "source": [
    "table(df$Group)"
   ]
  },
  {
   "cell_type": "markdown",
   "id": "71fe2ce6-0875-45ca-8cfc-22f65841b003",
   "metadata": {},
   "source": [
    "## Construct Summarized Experiment Container Object"
   ]
  },
  {
   "cell_type": "markdown",
   "id": "fd7eef48-36cc-41df-b950-9e39518af41c",
   "metadata": {},
   "source": [
    "### colData"
   ]
  },
  {
   "cell_type": "code",
   "execution_count": 5,
   "id": "d09f3950-d792-4359-aafd-563799de3732",
   "metadata": {},
   "outputs": [],
   "source": [
    "colData <- data.frame(unique(df$Group))\n",
    "colnames(colData) <- 'sample'\n",
    "row.names(colData) <- colData$sample"
   ]
  },
  {
   "cell_type": "markdown",
   "id": "7b5759b9-4808-4dc3-9739-e9b68c9349e7",
   "metadata": {},
   "source": [
    "### rowRanges"
   ]
  },
  {
   "cell_type": "code",
   "execution_count": 6,
   "id": "07acc7aa-2e66-4c0c-92a3-68c10060ddb9",
   "metadata": {
    "tags": []
   },
   "outputs": [],
   "source": [
    "#' Wrangle MPRA rowRange data for constructing a Summarized Experiment object\n",
    "#'\n",
    "#' @param df_group_list A list of dataframes split by a user defined group\n",
    "#' @export\n",
    "#' @example\n",
    "wrangle.mpra.rowRange.data <- function(df_group_list){\n",
    "    # Iterate over user defined groups to subset genomic ranges/intervals\n",
    "    rowRange_list <- list()\n",
    "    for (group in names(df_group_list)){\n",
    "        rowRange_n_group_df <- makeGRangesFromDataFrame(data.frame(df_group_list[[group]][,c('chr','start','end')]))\n",
    "        rowRange_n_group_df$sample <- group\n",
    "        rowRange_list[[group]] <-rowRange_n_group_df\n",
    "    }\n",
    "    return(rowRange_list)    \n",
    "}"
   ]
  },
  {
   "cell_type": "code",
   "execution_count": 7,
   "id": "93813dcc-5275-4bf9-a1b1-c877570586d3",
   "metadata": {
    "tags": []
   },
   "outputs": [],
   "source": [
    "df_group_list <- split(df, df$Group)\n",
    "rowRange_list <- wrangle.mpra.rowRange.data(df_group_list)"
   ]
  },
  {
   "cell_type": "markdown",
   "id": "d10f580f-15fd-4f78-9272-2f4a0ea2e900",
   "metadata": {},
   "source": [
    "### Assays"
   ]
  },
  {
   "cell_type": "code",
   "execution_count": 8,
   "id": "23587604-66e0-4b98-b02e-d5505e3d3a98",
   "metadata": {
    "tags": []
   },
   "outputs": [],
   "source": [
    "#' Wrangle MPRA assay data for constructing a Summarized Experiment object\n",
    "#'\n",
    "#' @param df_group_list A list of dataframes split by a user defined group\n",
    "#' @param assay_type A column (string) identifier for subsetting the MPRA assay type\n",
    "#' @export \n",
    "wrangle.mpra.assay.data <- function(df_group_list, assay_type){\n",
    "    \n",
    "    # Iterate over user defined groups to create assay matrices specified by the user\n",
    "    assay_list <- list()\n",
    "    for (group in names(df_group_list)){\n",
    "        assay_n_group_df <- data.frame(df_group_list[[group]][assay_type])\n",
    "        colnames(assay_n_group_df) <- group\n",
    "        assay_list <- append(assay_list,assay_n_group_df)\n",
    "    }\n",
    "    \n",
    "    # Combine user defined groups into one matrix (fills missing values with NA)\n",
    "    assay_df <- t(plyr::ldply(assay_list, rbind))    \n",
    "    rownames(assay_df) <- NULL\n",
    "    colnames(assay_df) <- assay_df[1,]\n",
    "    assay_df <- assay_df[-1,]\n",
    "    \n",
    "    return(assay_df)    \n",
    "}\n",
    "\n"
   ]
  },
  {
   "cell_type": "code",
   "execution_count": 9,
   "id": "9ddc1b5b-0fcf-4a3e-91b2-812cd2b5edf7",
   "metadata": {
    "tags": []
   },
   "outputs": [],
   "source": [
    "df_group_list <- split(df, df$Group)"
   ]
  },
  {
   "cell_type": "code",
   "execution_count": 10,
   "id": "0c1b4fd4-c547-4236-b759-19e16594bd43",
   "metadata": {
    "tags": []
   },
   "outputs": [],
   "source": [
    "assay_dna.avg_mtx <- wrangle.mpra.assay.data(df_group_list, 'DNA.average')\n",
    "assay_rna.avg_mtx <- wrangle.mpra.assay.data(df_group_list, 'RNA.average')\n",
    "assay_rna_dna.avg_mtx <- wrangle.mpra.assay.data(df_group_list, 'RNA.DNA.average')"
   ]
  },
  {
   "cell_type": "markdown",
   "id": "ef98f2a9-1bba-4783-a062-71a29e360e5f",
   "metadata": {},
   "source": [
    "### Assemble Summarized Experiment"
   ]
  },
  {
   "cell_type": "code",
   "execution_count": 25,
   "id": "085791f3-9489-4ef4-8d04-a5bb11aebc81",
   "metadata": {
    "tags": []
   },
   "outputs": [],
   "source": [
    "se_list <- list()\n",
    "for (sample in colData$sample){\n",
    "    \n",
    "    ### Assay ###\n",
    "    # DNA.avg\n",
    "    assay_subset_dna.avg_mtx <- data.frame(assay_dna.avg_mtx[,sample])\n",
    "    colnames(assay_subset_dna.avg_mtx) <- sample\n",
    "    assay_subset_dna.avg_mtx <- as.data.frame(drop_na(assay_subset_dna.avg_mtx))\n",
    "    \n",
    "    # RNA.avg\n",
    "    assay_subset_rna.avg_mtx <- data.frame(assay_rna.avg_mtx[,sample])\n",
    "    colnames(assay_subset_rna.avg_mtx) <- sample\n",
    "    assay_subset_rna.avg_mtx <- as.data.frame(drop_na(assay_subset_rna.avg_mtx))\n",
    "    \n",
    "    # RNA_DNA.avg\n",
    "    assay_subset_rna_dna.avg_mtx <- data.frame(assay_rna_dna.avg_mtx[,sample])\n",
    "    colnames(assay_subset_rna_dna.avg_mtx) <- sample\n",
    "    assay_subset_rna_dna.avg_mtx <- as.data.frame(drop_na(assay_subset_rna_dna.avg_mtx))\n",
    "    \n",
    "    ### rowRanges ###\n",
    "    rowRanges = rowRange_list[sample][[1]]\n",
    "    names(rowRanges) <- rownames(assay_subset_dna.avg_mtx)\n",
    "\n",
    "\n",
    "    ### colData ###\n",
    "    colData_subset <- data.frame(sample=sample)\n",
    "    \n",
    "    se <- SummarizedExperiment(assays=list(dna.avg=assay_subset_dna.avg_mtx,\n",
    "                                           rna.avg=assay_subset_rna.avg_mtx,\n",
    "                                           rna_dna.avg = assay_subset_rna_dna.avg_mtx),\n",
    "                               rowRanges=rowRanges,\n",
    "                               colData=colData_subset)\n",
    "    se_list[[sample]] <- se\n",
    "}"
   ]
  },
  {
   "cell_type": "code",
   "execution_count": 26,
   "id": "2384d61a-fa7e-43e8-8548-22373d9ed268",
   "metadata": {
    "tags": []
   },
   "outputs": [
    {
     "data": {
      "text/plain": [
       "$BNA_TF_H3K27ac\n",
       "class: RangedSummarizedExperiment \n",
       "dim: 538 1 \n",
       "metadata(0):\n",
       "assays(3): dna.avg rna.avg rna_dna.avg\n",
       "rownames(538): 1 2 ... 537 538\n",
       "rowData names(1): sample\n",
       "colnames(1): BNA_TF_H3K27ac\n",
       "colData names(1): sample\n",
       "\n",
       "$BNA_TF\n",
       "class: RangedSummarizedExperiment \n",
       "dim: 99 1 \n",
       "metadata(0):\n",
       "assays(3): dna.avg rna.avg rna_dna.avg\n",
       "rownames(99): 1 2 ... 98 99\n",
       "rowData names(1): sample\n",
       "colnames(1): BNA_TF\n",
       "colData names(1): sample\n",
       "\n",
       "$BNA_H3K27ac\n",
       "class: RangedSummarizedExperiment \n",
       "dim: 218 1 \n",
       "metadata(0):\n",
       "assays(3): dna.avg rna.avg rna_dna.avg\n",
       "rownames(218): 1 2 ... 217 218\n",
       "rowData names(1): sample\n",
       "colnames(1): BNA_H3K27ac\n",
       "colData names(1): sample\n",
       "\n",
       "$negative\n",
       "class: RangedSummarizedExperiment \n",
       "dim: 180 1 \n",
       "metadata(0):\n",
       "assays(3): dna.avg rna.avg rna_dna.avg\n",
       "rownames(180): 1 2 ... 179 180\n",
       "rowData names(1): sample\n",
       "colnames(1): negative\n",
       "colData names(1): sample\n",
       "\n",
       "$ES\n",
       "class: RangedSummarizedExperiment \n",
       "dim: 947 1 \n",
       "metadata(0):\n",
       "assays(3): dna.avg rna.avg rna_dna.avg\n",
       "rownames(947): 1 2 ... 946 947\n",
       "rowData names(1): sample\n",
       "colnames(1): ES\n",
       "colData names(1): sample\n"
      ]
     },
     "metadata": {},
     "output_type": "display_data"
    }
   ],
   "source": [
    "se_list"
   ]
  }
 ],
 "metadata": {
  "kernelspec": {
   "display_name": "R",
   "language": "R",
   "name": "ir"
  },
  "language_info": {
   "codemirror_mode": "r",
   "file_extension": ".r",
   "mimetype": "text/x-r-source",
   "name": "R",
   "pygments_lexer": "r",
   "version": "4.2.2"
  }
 },
 "nbformat": 4,
 "nbformat_minor": 5
}
