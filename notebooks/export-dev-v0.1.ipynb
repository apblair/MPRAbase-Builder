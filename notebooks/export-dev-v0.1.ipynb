{
 "cells": [
  {
   "cell_type": "code",
   "execution_count": 2,
   "id": "57f8c162-04d7-4150-bbf5-74b3a9b8fd33",
   "metadata": {},
   "outputs": [],
   "source": [
    "library(dbplyr)\n",
    "library(DBI)\n",
    "library(RSQLite)\n",
    "library(dplyr)\n",
    "library(SummarizedExperiment)\n",
    "library(tidyr)"
   ]
  },
  {
   "cell_type": "code",
   "execution_count": 13,
   "id": "5be95a04-79a2-40ce-bd43-91e43d7cb1a9",
   "metadata": {},
   "outputs": [],
   "source": [
    "export.SummarizedExperiment_GEO <- function(GEOID, summary){\n",
    "    ###  Check user input\n",
    "    ### user input a GEOID\n",
    "    # GEOID=\"GSE83894\"  ### taking this GSE83894 as an example\n",
    "    \n",
    "    #connecting to SQL database in R\n",
    "    con <- DBI::dbConnect(RSQLite::SQLite(), dbname = \"../data/mprabase_v4_6.db\")\n",
    "    \n",
    "    ## read from db to dataframe\n",
    "    \n",
    "    ### read data from selected GEO_number\n",
    "    sqlStatement_seltable <- paste(\"SELECT * FROM datasets \n",
    "    INNER JOIN designed_library ON datasets.datasets_id = designed_library.datasets_id \n",
    "    INNER JOIN  sample ON designed_library.library_id=sample.library_id \n",
    "    INNER JOIN  library_sequence ON sample.library_id=library_sequence.library_id \n",
    "    INNER JOIN element_score ON library_sequence.library_element_id=element_score.library_element_id \n",
    "    WHERE datasets.GEO_number=\",\"'\",GEOID,\"'\",sep=\"\")\n",
    "    sel_table<- dbGetQuery(con, sqlStatement_seltable)\n",
    "    \n",
    "    #### generate coldata for grange from selected GEO_number\n",
    "    sqlStatement_coldata  <- paste(\"SELECT datasets.PMID, datasets.GEO_number,datasets.labs FROM datasets\n",
    "    WHERE datasets.GEO_number=\",\"'\",GEOID,\"'\",sep=\"\")\n",
    "    colData=  dbGetQuery(con,sqlStatement_coldata )\n",
    "    \n",
    "    ####remove duplicated record\n",
    "    testing_colnames_1 <- sel_table[!duplicated(as.list(sel_table))]\n",
    "    testing_colnames_2 <-  testing_colnames_1[!duplicated(testing_colnames_1$element_sample_id),]\n",
    "    testing_colnames_2 <- subset(testing_colnames_2, select= -c(library_element_name.1, sample_id.1))\n",
    "    coord_all_table <- separate(data = testing_colnames_2, col = element_coordinate, into= c(\"seqnames\",\"start\",\"end\"))\n",
    "    \n",
    "    ##### export Grange\n",
    "    gr = GRanges(seqnames = as.character(unlist(coord_all_table$seqnames)), \n",
    "    ranges = IRanges(as.numeric(unlist(coord_all_table$start)),\n",
    "    end=as.numeric(unlist(coord_all_table$end)),\n",
    "    names = unlist(coord_all_table$element_sample_id)))\n",
    "    \n",
    "    #### making ColData by dropping genomic-region columns\n",
    "\n",
    "    #coord_all_table$start=as.numeric(coord_all_table$start)\n",
    "    #coord_all_table$end=as.numeric(coord_all_table$end)\n",
    "    \n",
    "    mcols(gr) = subset(coord_all_table,select=-c(seqnames,start,end,sample_id,element_sample_id))\n",
    "    \n",
    "    #### making SummarizedExperiment\n",
    "    SE1=SummarizedExperiment(assays=list(ratio=(as.matrix(coord_all_table$score))),rowRanges=gr,colData=colData)\n",
    "    metadata(SE1)=summary\n",
    "    return(SE1)\n",
    "}"
   ]
  },
  {
   "cell_type": "code",
   "execution_count": 14,
   "id": "08433ae0-f49c-44d9-995e-e59ab4257fc9",
   "metadata": {},
   "outputs": [],
   "source": [
    "# load summary file\n",
    "summary <- read.table(\"../inst/summary.csv\", header=T, sep=',')"
   ]
  },
  {
   "cell_type": "code",
   "execution_count": 15,
   "id": "c0933df6-dfc7-4b8e-9f7d-2d40ce57dfeb",
   "metadata": {},
   "outputs": [
    {
     "data": {
      "text/html": [
       "<table class=\"dataframe\">\n",
       "<caption>A data.frame: 6 × 10</caption>\n",
       "<thead>\n",
       "\t<tr><th></th><th scope=col>PMID</th><th scope=col>GEO_number</th><th scope=col>SRP_number</th><th scope=col>labs</th><th scope=col>sample_name</th><th scope=col>number_of_elements</th><th scope=col>Library_strategy</th><th scope=col>Organism</th><th scope=col>Cell_line_tissue</th><th scope=col>DNA_RNA_reps</th></tr>\n",
       "\t<tr><th></th><th scope=col>&lt;int&gt;</th><th scope=col>&lt;chr&gt;</th><th scope=col>&lt;chr&gt;</th><th scope=col>&lt;chr&gt;</th><th scope=col>&lt;chr&gt;</th><th scope=col>&lt;chr&gt;</th><th scope=col>&lt;chr&gt;</th><th scope=col>&lt;chr&gt;</th><th scope=col>&lt;chr&gt;</th><th scope=col>&lt;int&gt;</th></tr>\n",
       "</thead>\n",
       "<tbody>\n",
       "\t<tr><th scope=row>1</th><td>27831498</td><td>GSE83894 </td><td>         </td><td>Shendure,Ahituv           </td><td>Mutant_integrase_HepG2     </td><td>2440</td><td>lentiMPRA</td><td>Homo sapiens</td><td>HepG2      </td><td>3</td></tr>\n",
       "\t<tr><th scope=row>2</th><td>27831498</td><td>GSE83894 </td><td>         </td><td>Shendure,Ahituv           </td><td>Wild-type_integrase_HepG2  </td><td>2440</td><td>lentiMPRA</td><td>Homo sapiens</td><td>HepG2      </td><td>3</td></tr>\n",
       "\t<tr><th scope=row>3</th><td>30045748</td><td>GSE113978</td><td>         </td><td>Shendure                  </td><td>Klein_STARR_Tiling_HepG2   </td><td>5218</td><td>STARR-seq</td><td>Homo sapiens</td><td>HepG2      </td><td>3</td></tr>\n",
       "\t<tr><th scope=row>4</th><td>30045748</td><td>GSE113978</td><td>         </td><td>Shendure                  </td><td>Klein_STARR_Orthologs_HepG2</td><td>5218</td><td>STARR-seq</td><td>Homo sapiens</td><td>HepG2      </td><td>3</td></tr>\n",
       "\t<tr><th scope=row>5</th><td>23892608</td><td>         </td><td>SRP018414</td><td>Ahituv,Ovcharenko,Shendure</td><td>Robin_MPRA_mouse           </td><td>4966</td><td>plasmid  </td><td>Mus musculus</td><td>mouse liver</td><td>3</td></tr>\n",
       "\t<tr><th scope=row>6</th><td>23892608</td><td>         </td><td>SRP018414</td><td>Ahituv,Ovcharenko,Shendure</td><td>Robin_Hepg2                </td><td>4966</td><td>plasmid  </td><td>Homo sapiens</td><td>HepG2      </td><td>3</td></tr>\n",
       "</tbody>\n",
       "</table>\n"
      ],
      "text/latex": [
       "A data.frame: 6 × 10\n",
       "\\begin{tabular}{r|llllllllll}\n",
       "  & PMID & GEO\\_number & SRP\\_number & labs & sample\\_name & number\\_of\\_elements & Library\\_strategy & Organism & Cell\\_line\\_tissue & DNA\\_RNA\\_reps\\\\\n",
       "  & <int> & <chr> & <chr> & <chr> & <chr> & <chr> & <chr> & <chr> & <chr> & <int>\\\\\n",
       "\\hline\n",
       "\t1 & 27831498 & GSE83894  &           & Shendure,Ahituv            & Mutant\\_integrase\\_HepG2      & 2440 & lentiMPRA & Homo sapiens & HepG2       & 3\\\\\n",
       "\t2 & 27831498 & GSE83894  &           & Shendure,Ahituv            & Wild-type\\_integrase\\_HepG2   & 2440 & lentiMPRA & Homo sapiens & HepG2       & 3\\\\\n",
       "\t3 & 30045748 & GSE113978 &           & Shendure                   & Klein\\_STARR\\_Tiling\\_HepG2    & 5218 & STARR-seq & Homo sapiens & HepG2       & 3\\\\\n",
       "\t4 & 30045748 & GSE113978 &           & Shendure                   & Klein\\_STARR\\_Orthologs\\_HepG2 & 5218 & STARR-seq & Homo sapiens & HepG2       & 3\\\\\n",
       "\t5 & 23892608 &           & SRP018414 & Ahituv,Ovcharenko,Shendure & Robin\\_MPRA\\_mouse            & 4966 & plasmid   & Mus musculus & mouse liver & 3\\\\\n",
       "\t6 & 23892608 &           & SRP018414 & Ahituv,Ovcharenko,Shendure & Robin\\_Hepg2                 & 4966 & plasmid   & Homo sapiens & HepG2       & 3\\\\\n",
       "\\end{tabular}\n"
      ],
      "text/markdown": [
       "\n",
       "A data.frame: 6 × 10\n",
       "\n",
       "| <!--/--> | PMID &lt;int&gt; | GEO_number &lt;chr&gt; | SRP_number &lt;chr&gt; | labs &lt;chr&gt; | sample_name &lt;chr&gt; | number_of_elements &lt;chr&gt; | Library_strategy &lt;chr&gt; | Organism &lt;chr&gt; | Cell_line_tissue &lt;chr&gt; | DNA_RNA_reps &lt;int&gt; |\n",
       "|---|---|---|---|---|---|---|---|---|---|---|\n",
       "| 1 | 27831498 | GSE83894  | <!----> | Shendure,Ahituv            | Mutant_integrase_HepG2      | 2440 | lentiMPRA | Homo sapiens | HepG2       | 3 |\n",
       "| 2 | 27831498 | GSE83894  | <!----> | Shendure,Ahituv            | Wild-type_integrase_HepG2   | 2440 | lentiMPRA | Homo sapiens | HepG2       | 3 |\n",
       "| 3 | 30045748 | GSE113978 | <!----> | Shendure                   | Klein_STARR_Tiling_HepG2    | 5218 | STARR-seq | Homo sapiens | HepG2       | 3 |\n",
       "| 4 | 30045748 | GSE113978 | <!----> | Shendure                   | Klein_STARR_Orthologs_HepG2 | 5218 | STARR-seq | Homo sapiens | HepG2       | 3 |\n",
       "| 5 | 23892608 | <!----> | SRP018414 | Ahituv,Ovcharenko,Shendure | Robin_MPRA_mouse            | 4966 | plasmid   | Mus musculus | mouse liver | 3 |\n",
       "| 6 | 23892608 | <!----> | SRP018414 | Ahituv,Ovcharenko,Shendure | Robin_Hepg2                 | 4966 | plasmid   | Homo sapiens | HepG2       | 3 |\n",
       "\n"
      ],
      "text/plain": [
       "  PMID     GEO_number SRP_number labs                      \n",
       "1 27831498 GSE83894              Shendure,Ahituv           \n",
       "2 27831498 GSE83894              Shendure,Ahituv           \n",
       "3 30045748 GSE113978             Shendure                  \n",
       "4 30045748 GSE113978             Shendure                  \n",
       "5 23892608            SRP018414  Ahituv,Ovcharenko,Shendure\n",
       "6 23892608            SRP018414  Ahituv,Ovcharenko,Shendure\n",
       "  sample_name                 number_of_elements Library_strategy Organism    \n",
       "1 Mutant_integrase_HepG2      2440               lentiMPRA        Homo sapiens\n",
       "2 Wild-type_integrase_HepG2   2440               lentiMPRA        Homo sapiens\n",
       "3 Klein_STARR_Tiling_HepG2    5218               STARR-seq        Homo sapiens\n",
       "4 Klein_STARR_Orthologs_HepG2 5218               STARR-seq        Homo sapiens\n",
       "5 Robin_MPRA_mouse            4966               plasmid          Mus musculus\n",
       "6 Robin_Hepg2                 4966               plasmid          Homo sapiens\n",
       "  Cell_line_tissue DNA_RNA_reps\n",
       "1 HepG2            3           \n",
       "2 HepG2            3           \n",
       "3 HepG2            3           \n",
       "4 HepG2            3           \n",
       "5 mouse liver      3           \n",
       "6 HepG2            3           "
      ]
     },
     "metadata": {},
     "output_type": "display_data"
    }
   ],
   "source": [
    "head(summary)"
   ]
  },
  {
   "cell_type": "code",
   "execution_count": 16,
   "id": "b48d7e3d-2395-4508-9d77-49a87191fcaa",
   "metadata": {},
   "outputs": [
    {
     "data": {
      "text/html": [
       "<table class=\"dataframe\">\n",
       "<caption>A data.frame: 2 × 10</caption>\n",
       "<thead>\n",
       "\t<tr><th scope=col>PMID</th><th scope=col>GEO_number</th><th scope=col>SRP_number</th><th scope=col>labs</th><th scope=col>sample_name</th><th scope=col>number_of_elements</th><th scope=col>Library_strategy</th><th scope=col>Organism</th><th scope=col>Cell_line_tissue</th><th scope=col>DNA_RNA_reps</th></tr>\n",
       "\t<tr><th scope=col>&lt;int&gt;</th><th scope=col>&lt;chr&gt;</th><th scope=col>&lt;chr&gt;</th><th scope=col>&lt;chr&gt;</th><th scope=col>&lt;chr&gt;</th><th scope=col>&lt;chr&gt;</th><th scope=col>&lt;chr&gt;</th><th scope=col>&lt;chr&gt;</th><th scope=col>&lt;chr&gt;</th><th scope=col>&lt;int&gt;</th></tr>\n",
       "</thead>\n",
       "<tbody>\n",
       "\t<tr><td>27831498</td><td>GSE83894</td><td></td><td>Shendure,Ahituv</td><td>Mutant_integrase_HepG2   </td><td>2440</td><td>lentiMPRA</td><td>Homo sapiens</td><td>HepG2</td><td>3</td></tr>\n",
       "\t<tr><td>27831498</td><td>GSE83894</td><td></td><td>Shendure,Ahituv</td><td>Wild-type_integrase_HepG2</td><td>2440</td><td>lentiMPRA</td><td>Homo sapiens</td><td>HepG2</td><td>3</td></tr>\n",
       "</tbody>\n",
       "</table>\n"
      ],
      "text/latex": [
       "A data.frame: 2 × 10\n",
       "\\begin{tabular}{llllllllll}\n",
       " PMID & GEO\\_number & SRP\\_number & labs & sample\\_name & number\\_of\\_elements & Library\\_strategy & Organism & Cell\\_line\\_tissue & DNA\\_RNA\\_reps\\\\\n",
       " <int> & <chr> & <chr> & <chr> & <chr> & <chr> & <chr> & <chr> & <chr> & <int>\\\\\n",
       "\\hline\n",
       "\t 27831498 & GSE83894 &  & Shendure,Ahituv & Mutant\\_integrase\\_HepG2    & 2440 & lentiMPRA & Homo sapiens & HepG2 & 3\\\\\n",
       "\t 27831498 & GSE83894 &  & Shendure,Ahituv & Wild-type\\_integrase\\_HepG2 & 2440 & lentiMPRA & Homo sapiens & HepG2 & 3\\\\\n",
       "\\end{tabular}\n"
      ],
      "text/markdown": [
       "\n",
       "A data.frame: 2 × 10\n",
       "\n",
       "| PMID &lt;int&gt; | GEO_number &lt;chr&gt; | SRP_number &lt;chr&gt; | labs &lt;chr&gt; | sample_name &lt;chr&gt; | number_of_elements &lt;chr&gt; | Library_strategy &lt;chr&gt; | Organism &lt;chr&gt; | Cell_line_tissue &lt;chr&gt; | DNA_RNA_reps &lt;int&gt; |\n",
       "|---|---|---|---|---|---|---|---|---|---|\n",
       "| 27831498 | GSE83894 | <!----> | Shendure,Ahituv | Mutant_integrase_HepG2    | 2440 | lentiMPRA | Homo sapiens | HepG2 | 3 |\n",
       "| 27831498 | GSE83894 | <!----> | Shendure,Ahituv | Wild-type_integrase_HepG2 | 2440 | lentiMPRA | Homo sapiens | HepG2 | 3 |\n",
       "\n"
      ],
      "text/plain": [
       "  PMID     GEO_number SRP_number labs            sample_name              \n",
       "1 27831498 GSE83894              Shendure,Ahituv Mutant_integrase_HepG2   \n",
       "2 27831498 GSE83894              Shendure,Ahituv Wild-type_integrase_HepG2\n",
       "  number_of_elements Library_strategy Organism     Cell_line_tissue\n",
       "1 2440               lentiMPRA        Homo sapiens HepG2           \n",
       "2 2440               lentiMPRA        Homo sapiens HepG2           \n",
       "  DNA_RNA_reps\n",
       "1 3           \n",
       "2 3           "
      ]
     },
     "metadata": {},
     "output_type": "display_data"
    }
   ],
   "source": [
    "filter(summary, GEO_number==\"GSE83894\")"
   ]
  },
  {
   "cell_type": "code",
   "execution_count": 24,
   "id": "a927438f-44e9-4f7a-95c7-0a47f82be46b",
   "metadata": {},
   "outputs": [],
   "source": [
    "se <- export.SummarizedExperiment_GEO(\"GSE83894\", filter(summary, GEO_number==\"GSE83894\"))"
   ]
  },
  {
   "cell_type": "code",
   "execution_count": 25,
   "id": "5da61a7a-3337-494c-aff8-0edba728a93b",
   "metadata": {},
   "outputs": [
    {
     "data": {
      "text/plain": [
       "class: RangedSummarizedExperiment \n",
       "dim: 4880 1 \n",
       "metadata(10): PMID GEO_number ... Cell_line_tissue DNA_RNA_reps\n",
       "assays(1): ratio\n",
       "rownames(4880): DS0001-SID01-ESID00000001 DS0001-SID01-ESID00000002 ...\n",
       "  DS0001-SID02-ESID00002439 DS0001-SID02-ESID00002440\n",
       "rowData names(24): datasets_id datasets_name ... sequence score\n",
       "colnames: NULL\n",
       "colData names(3): PMID GEO_number labs"
      ]
     },
     "metadata": {},
     "output_type": "display_data"
    }
   ],
   "source": [
    "se"
   ]
  },
  {
   "cell_type": "code",
   "execution_count": 26,
   "id": "abaa0842-6362-4998-ad53-49ac39889321",
   "metadata": {},
   "outputs": [
    {
     "data": {
      "text/html": [
       "<table class=\"dataframe\">\n",
       "<caption>A matrix: 6 × 1 of type dbl</caption>\n",
       "<tbody>\n",
       "\t<tr><th scope=row>DS0001-SID01-ESID00000001</th><td>0.9859025</td></tr>\n",
       "\t<tr><th scope=row>DS0001-SID01-ESID00000002</th><td>1.0603448</td></tr>\n",
       "\t<tr><th scope=row>DS0001-SID01-ESID00000003</th><td>0.9077347</td></tr>\n",
       "\t<tr><th scope=row>DS0001-SID01-ESID00000004</th><td>1.1769280</td></tr>\n",
       "\t<tr><th scope=row>DS0001-SID01-ESID00000005</th><td>0.7886169</td></tr>\n",
       "\t<tr><th scope=row>DS0001-SID01-ESID00000006</th><td>0.9539160</td></tr>\n",
       "</tbody>\n",
       "</table>\n"
      ],
      "text/latex": [
       "A matrix: 6 × 1 of type dbl\n",
       "\\begin{tabular}{r|l}\n",
       "\tDS0001-SID01-ESID00000001 & 0.9859025\\\\\n",
       "\tDS0001-SID01-ESID00000002 & 1.0603448\\\\\n",
       "\tDS0001-SID01-ESID00000003 & 0.9077347\\\\\n",
       "\tDS0001-SID01-ESID00000004 & 1.1769280\\\\\n",
       "\tDS0001-SID01-ESID00000005 & 0.7886169\\\\\n",
       "\tDS0001-SID01-ESID00000006 & 0.9539160\\\\\n",
       "\\end{tabular}\n"
      ],
      "text/markdown": [
       "\n",
       "A matrix: 6 × 1 of type dbl\n",
       "\n",
       "| DS0001-SID01-ESID00000001 | 0.9859025 |\n",
       "| DS0001-SID01-ESID00000002 | 1.0603448 |\n",
       "| DS0001-SID01-ESID00000003 | 0.9077347 |\n",
       "| DS0001-SID01-ESID00000004 | 1.1769280 |\n",
       "| DS0001-SID01-ESID00000005 | 0.7886169 |\n",
       "| DS0001-SID01-ESID00000006 | 0.9539160 |\n",
       "\n"
      ],
      "text/plain": [
       "                          [,1]     \n",
       "DS0001-SID01-ESID00000001 0.9859025\n",
       "DS0001-SID01-ESID00000002 1.0603448\n",
       "DS0001-SID01-ESID00000003 0.9077347\n",
       "DS0001-SID01-ESID00000004 1.1769280\n",
       "DS0001-SID01-ESID00000005 0.7886169\n",
       "DS0001-SID01-ESID00000006 0.9539160"
      ]
     },
     "metadata": {},
     "output_type": "display_data"
    }
   ],
   "source": [
    "head(assays(se)$ratio)"
   ]
  },
  {
   "cell_type": "code",
   "execution_count": 27,
   "id": "92833009-8496-48af-a7b6-df3115461c6a",
   "metadata": {},
   "outputs": [
    {
     "data": {
      "text/plain": [
       "GRanges object with 6 ranges and 24 metadata columns:\n",
       "                            seqnames            ranges strand | datasets_id\n",
       "                               <Rle>         <IRanges>  <Rle> | <character>\n",
       "  DS0001-SID01-ESID00000001    chr10 11917871-11917984      * |      DS0001\n",
       "  DS0001-SID01-ESID00000002    chr10 34165653-34165745      * |      DS0001\n",
       "  DS0001-SID01-ESID00000003    chr10 52009954-52010059      * |      DS0001\n",
       "  DS0001-SID01-ESID00000004    chr10 60767336-60767487      * |      DS0001\n",
       "  DS0001-SID01-ESID00000005    chr10 60797400-60797480      * |      DS0001\n",
       "  DS0001-SID01-ESID00000006    chr10 72112555-72112707      * |      DS0001\n",
       "                               datasets_name        PMID  GEO_number\n",
       "                                 <character> <character> <character>\n",
       "  DS0001-SID01-ESID00000001 Inoue_MPRA_HepG2    27831498    GSE83894\n",
       "  DS0001-SID01-ESID00000002 Inoue_MPRA_HepG2    27831498    GSE83894\n",
       "  DS0001-SID01-ESID00000003 Inoue_MPRA_HepG2    27831498    GSE83894\n",
       "  DS0001-SID01-ESID00000004 Inoue_MPRA_HepG2    27831498    GSE83894\n",
       "  DS0001-SID01-ESID00000005 Inoue_MPRA_HepG2    27831498    GSE83894\n",
       "  DS0001-SID01-ESID00000006 Inoue_MPRA_HepG2    27831498    GSE83894\n",
       "                             SRP_number              Reference            labs\n",
       "                            <character>            <character>     <character>\n",
       "  DS0001-SID01-ESID00000001             A systematic compari.. Shendure,Ahituv\n",
       "  DS0001-SID01-ESID00000002             A systematic compari.. Shendure,Ahituv\n",
       "  DS0001-SID01-ESID00000003             A systematic compari.. Shendure,Ahituv\n",
       "  DS0001-SID01-ESID00000004             A systematic compari.. Shendure,Ahituv\n",
       "  DS0001-SID01-ESID00000005             A systematic compari.. Shendure,Ahituv\n",
       "  DS0001-SID01-ESID00000006             A systematic compari.. Shendure,Ahituv\n",
       "                              library_id           library_name\n",
       "                             <character>            <character>\n",
       "  DS0001-SID01-ESID00000001 DS0001-LID01 Cloned_array_oligo_l..\n",
       "  DS0001-SID01-ESID00000002 DS0001-LID01 Cloned_array_oligo_l..\n",
       "  DS0001-SID01-ESID00000003 DS0001-LID01 Cloned_array_oligo_l..\n",
       "  DS0001-SID01-ESID00000004 DS0001-LID01 Cloned_array_oligo_l..\n",
       "  DS0001-SID01-ESID00000005 DS0001-LID01 Cloned_array_oligo_l..\n",
       "  DS0001-SID01-ESID00000006 DS0001-LID01 Cloned_array_oligo_l..\n",
       "                            number_of_elements            sample_name\n",
       "                                   <character>            <character>\n",
       "  DS0001-SID01-ESID00000001               2440 Mutant_integrase_HepG2\n",
       "  DS0001-SID01-ESID00000002               2440 Mutant_integrase_HepG2\n",
       "  DS0001-SID01-ESID00000003               2440 Mutant_integrase_HepG2\n",
       "  DS0001-SID01-ESID00000004               2440 Mutant_integrase_HepG2\n",
       "  DS0001-SID01-ESID00000005               2440 Mutant_integrase_HepG2\n",
       "  DS0001-SID01-ESID00000006               2440 Mutant_integrase_HepG2\n",
       "                            Library_strategy     Organism Cell_line_tissue\n",
       "                                 <character>  <character>      <character>\n",
       "  DS0001-SID01-ESID00000001        lentiMPRA Homo sapiens            HepG2\n",
       "  DS0001-SID01-ESID00000002        lentiMPRA Homo sapiens            HepG2\n",
       "  DS0001-SID01-ESID00000003        lentiMPRA Homo sapiens            HepG2\n",
       "  DS0001-SID01-ESID00000004        lentiMPRA Homo sapiens            HepG2\n",
       "  DS0001-SID01-ESID00000005        lentiMPRA Homo sapiens            HepG2\n",
       "  DS0001-SID01-ESID00000006        lentiMPRA Homo sapiens            HepG2\n",
       "                            element_position DNA_RNA_reps      description\n",
       "                                 <character>  <character>      <character>\n",
       "  DS0001-SID01-ESID00000001            5'/3'            3 Mutant integrase\n",
       "  DS0001-SID01-ESID00000002            5'/3'            3 Mutant integrase\n",
       "  DS0001-SID01-ESID00000003            5'/3'            3 Mutant integrase\n",
       "  DS0001-SID01-ESID00000004            5'/3'            3 Mutant integrase\n",
       "  DS0001-SID01-ESID00000005            5'/3'            3 Mutant integrase\n",
       "  DS0001-SID01-ESID00000006            5'/3'            3 Mutant integrase\n",
       "                                     GenomeBrowser    rep_type\n",
       "                                       <character> <character>\n",
       "  DS0001-SID01-ESID00000001 DS0001-SID01_hg19.be..        <NA>\n",
       "  DS0001-SID01-ESID00000002 DS0001-SID01_hg19.be..        <NA>\n",
       "  DS0001-SID01-ESID00000003 DS0001-SID01_hg19.be..        <NA>\n",
       "  DS0001-SID01-ESID00000004 DS0001-SID01_hg19.be..        <NA>\n",
       "  DS0001-SID01-ESID00000005 DS0001-SID01_hg19.be..        <NA>\n",
       "  DS0001-SID01-ESID00000006 DS0001-SID01_hg19.be..        <NA>\n",
       "                                library_element_id genome_build\n",
       "                                       <character>  <character>\n",
       "  DS0001-SID01-ESID00000001 DS0001-LID01-EID0000..         hg19\n",
       "  DS0001-SID01-ESID00000002 DS0001-LID01-EID0000..         hg19\n",
       "  DS0001-SID01-ESID00000003 DS0001-LID01-EID0000..         hg19\n",
       "  DS0001-SID01-ESID00000004 DS0001-LID01-EID0000..         hg19\n",
       "  DS0001-SID01-ESID00000005 DS0001-LID01-EID0000..         hg19\n",
       "  DS0001-SID01-ESID00000006 DS0001-LID01-EID0000..         hg19\n",
       "                              library_element_name               sequence\n",
       "                                       <character>            <character>\n",
       "  DS0001-SID01-ESID00000001 A:HNF4A-ChMod_chr10:.. AGGACCGGATCAACTGAGGC..\n",
       "  DS0001-SID01-ESID00000002 A:HNF4A-ChMod_chr10:.. AGGACCGGATCAACTTCACA..\n",
       "  DS0001-SID01-ESID00000003 A:HNF4A-ChMod_chr10:.. AGGACCGGATCAACTTCTTT..\n",
       "  DS0001-SID01-ESID00000004 A:HNF4A-ChMod_chr10:.. AGGACCGGATCAACTATTGT..\n",
       "  DS0001-SID01-ESID00000005 A:HNF4A-ChMod_chr10:.. AGGACCGGATCAACTACTAC..\n",
       "  DS0001-SID01-ESID00000006 A:HNF4A-ChMod_chr10:.. AGGACCGGATCAACTCCATT..\n",
       "                                score\n",
       "                            <numeric>\n",
       "  DS0001-SID01-ESID00000001  0.985902\n",
       "  DS0001-SID01-ESID00000002  1.060345\n",
       "  DS0001-SID01-ESID00000003  0.907735\n",
       "  DS0001-SID01-ESID00000004  1.176928\n",
       "  DS0001-SID01-ESID00000005  0.788617\n",
       "  DS0001-SID01-ESID00000006  0.953916\n",
       "  -------\n",
       "  seqinfo: 24 sequences from an unspecified genome; no seqlengths"
      ]
     },
     "metadata": {},
     "output_type": "display_data"
    }
   ],
   "source": [
    "head(rowRanges(se))"
   ]
  },
  {
   "cell_type": "code",
   "execution_count": 29,
   "id": "ad937828-643b-4df5-9ef4-c5c6cc443f1d",
   "metadata": {},
   "outputs": [
    {
     "data": {
      "text/plain": [
       "DataFrame with 1 row and 3 columns\n",
       "         PMID  GEO_number            labs\n",
       "  <character> <character>     <character>\n",
       "1    27831498    GSE83894 Shendure,Ahituv"
      ]
     },
     "metadata": {},
     "output_type": "display_data"
    }
   ],
   "source": [
    "# TODO\n",
    "colData(se)"
   ]
  },
  {
   "cell_type": "code",
   "execution_count": 31,
   "id": "9db9552f-1d68-4587-bfde-ae3c30b1b8e6",
   "metadata": {},
   "outputs": [
    {
     "data": {
      "text/html": [
       "<table class=\"dataframe\">\n",
       "<caption>A data.frame: 2 × 10</caption>\n",
       "<thead>\n",
       "\t<tr><th scope=col>PMID</th><th scope=col>GEO_number</th><th scope=col>SRP_number</th><th scope=col>labs</th><th scope=col>sample_name</th><th scope=col>number_of_elements</th><th scope=col>Library_strategy</th><th scope=col>Organism</th><th scope=col>Cell_line_tissue</th><th scope=col>DNA_RNA_reps</th></tr>\n",
       "\t<tr><th scope=col>&lt;int&gt;</th><th scope=col>&lt;chr&gt;</th><th scope=col>&lt;chr&gt;</th><th scope=col>&lt;chr&gt;</th><th scope=col>&lt;chr&gt;</th><th scope=col>&lt;chr&gt;</th><th scope=col>&lt;chr&gt;</th><th scope=col>&lt;chr&gt;</th><th scope=col>&lt;chr&gt;</th><th scope=col>&lt;int&gt;</th></tr>\n",
       "</thead>\n",
       "<tbody>\n",
       "\t<tr><td>27831498</td><td>GSE83894</td><td></td><td>Shendure,Ahituv</td><td>Mutant_integrase_HepG2   </td><td>2440</td><td>lentiMPRA</td><td>Homo sapiens</td><td>HepG2</td><td>3</td></tr>\n",
       "\t<tr><td>27831498</td><td>GSE83894</td><td></td><td>Shendure,Ahituv</td><td>Wild-type_integrase_HepG2</td><td>2440</td><td>lentiMPRA</td><td>Homo sapiens</td><td>HepG2</td><td>3</td></tr>\n",
       "</tbody>\n",
       "</table>\n"
      ],
      "text/latex": [
       "A data.frame: 2 × 10\n",
       "\\begin{tabular}{llllllllll}\n",
       " PMID & GEO\\_number & SRP\\_number & labs & sample\\_name & number\\_of\\_elements & Library\\_strategy & Organism & Cell\\_line\\_tissue & DNA\\_RNA\\_reps\\\\\n",
       " <int> & <chr> & <chr> & <chr> & <chr> & <chr> & <chr> & <chr> & <chr> & <int>\\\\\n",
       "\\hline\n",
       "\t 27831498 & GSE83894 &  & Shendure,Ahituv & Mutant\\_integrase\\_HepG2    & 2440 & lentiMPRA & Homo sapiens & HepG2 & 3\\\\\n",
       "\t 27831498 & GSE83894 &  & Shendure,Ahituv & Wild-type\\_integrase\\_HepG2 & 2440 & lentiMPRA & Homo sapiens & HepG2 & 3\\\\\n",
       "\\end{tabular}\n"
      ],
      "text/markdown": [
       "\n",
       "A data.frame: 2 × 10\n",
       "\n",
       "| PMID &lt;int&gt; | GEO_number &lt;chr&gt; | SRP_number &lt;chr&gt; | labs &lt;chr&gt; | sample_name &lt;chr&gt; | number_of_elements &lt;chr&gt; | Library_strategy &lt;chr&gt; | Organism &lt;chr&gt; | Cell_line_tissue &lt;chr&gt; | DNA_RNA_reps &lt;int&gt; |\n",
       "|---|---|---|---|---|---|---|---|---|---|\n",
       "| 27831498 | GSE83894 | <!----> | Shendure,Ahituv | Mutant_integrase_HepG2    | 2440 | lentiMPRA | Homo sapiens | HepG2 | 3 |\n",
       "| 27831498 | GSE83894 | <!----> | Shendure,Ahituv | Wild-type_integrase_HepG2 | 2440 | lentiMPRA | Homo sapiens | HepG2 | 3 |\n",
       "\n"
      ],
      "text/plain": [
       "  PMID     GEO_number SRP_number labs            sample_name              \n",
       "1 27831498 GSE83894              Shendure,Ahituv Mutant_integrase_HepG2   \n",
       "2 27831498 GSE83894              Shendure,Ahituv Wild-type_integrase_HepG2\n",
       "  number_of_elements Library_strategy Organism     Cell_line_tissue\n",
       "1 2440               lentiMPRA        Homo sapiens HepG2           \n",
       "2 2440               lentiMPRA        Homo sapiens HepG2           \n",
       "  DNA_RNA_reps\n",
       "1 3           \n",
       "2 3           "
      ]
     },
     "metadata": {},
     "output_type": "display_data"
    }
   ],
   "source": [
    "metadata(se)"
   ]
  }
 ],
 "metadata": {
  "kernelspec": {
   "display_name": "R",
   "language": "R",
   "name": "ir"
  },
  "language_info": {
   "codemirror_mode": "r",
   "file_extension": ".r",
   "mimetype": "text/x-r-source",
   "name": "R",
   "pygments_lexer": "r",
   "version": "4.1.3"
  }
 },
 "nbformat": 4,
 "nbformat_minor": 5
}
