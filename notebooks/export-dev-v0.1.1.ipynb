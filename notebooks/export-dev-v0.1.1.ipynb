{
 "cells": [
  {
   "cell_type": "code",
   "execution_count": 2,
   "id": "902b383c-c210-4bd1-8e1c-4f5a212dfbef",
   "metadata": {},
   "outputs": [],
   "source": [
    "library(dbplyr)\n",
    "library(DBI)\n",
    "library(RSQLite)\n",
    "library(dplyr)\n",
    "library(SummarizedExperiment)\n",
    "library(tidyr)"
   ]
  },
  {
   "cell_type": "code",
   "execution_count": 50,
   "id": "8ce42ea4-0833-4fd7-ae3a-123637c76a54",
   "metadata": {},
   "outputs": [],
   "source": [
    "ExportSummarizedExperiment <- function(summary){\n",
    "    ###  Check user input\n",
    "    \n",
    "    # read filtered summary file from user input\n",
    "    #summary=read.csv(\"filter_summary.csv\",header=T)\n",
    "   \n",
    "\n",
    "    \n",
    "    #connecting to SQL database in R\n",
    "    con <- DBI::dbConnect(RSQLite::SQLite(), dbname = \"../data/mprabase_v4_6.db\")\n",
    "\n",
    "    SP_n=nrow(summary) ## number of samples\n",
    "\n",
    "## loop over all samples in the summary file\n",
    "    for(i in 1:SP_n) {\n",
    "\n",
    "    PMID=summary$PMID[i]\n",
    "    SPID=summary$sample_name[i]\n",
    "    #### read info for metaData (PMID,GEO_number,SRP_number,labs,Organism,Cell_line_tissue,sample_name,description,DNA_RNA_reps,element_position,rep_type,number_of_elements,Reference)\n",
    "    sqlStatement_coldata <- paste(\" SELECT datasets.PMID, datasets.GEO_number, datasets.SRP_number, datasets.labs, sample.Library_strategy, sample.Organism, sample.Cell_line_tissue,sample.sample_name, sample.description,sample.DNA_RNA_reps, sample.element_position,sample.rep_type, designed_library.number_of_elements, datasets.Reference FROM datasets INNER JOIN designed_library ON datasets.datasets_id = designed_library.datasets_id INNER JOIN  sample ON designed_library.library_id=sample.library_id WHERE  datasets.PMID =\",\"'\",PMID,\"'\",\"AND  sample.sample_name=\",\"'\",SPID,\"'\",sep=\"\")\n",
    "   \n",
    "    metaData =  dbGetQuery(con,sqlStatement_coldata)\n",
    "    colData={}\n",
    "    ## generate colData for each rep  \n",
    "    for (j in 1:metaData$DNA_RNA_reps){\n",
    "    colData=rbind(colData,data.frame(REP=j,\n",
    "                                     condition=metaData$description,\n",
    "                                     rep_type=metaData$rep_type,\n",
    "                                     Organism=metaData$Organism,\n",
    "                                     Cell_line_tissue=metaData$Cell_line_tissue))\n",
    "     }\n",
    "    ### read data for assay (ActivityScore)\n",
    "    sqlStatement_assay <- paste(\"  SELECT library_sequence.library_element_name, library_sequence.element_coordinate, library_sequence.sequence, library_sequence.genome_build, element_rep_score.REP1, element_rep_score.REP2, element_rep_score.REP3 FROM datasets  INNER JOIN designed_library ON datasets.datasets_id = designed_library.datasets_id INNER JOIN sample ON designed_library.library_id = sample.library_id INNER JOIN  element_rep_score ON sample.sample_id=element_rep_score.sample_id  INNER JOIN library_sequence ON library_sequence.library_element_id = element_rep_score.library_element_id WHERE  datasets.PMID =\",\"'\",PMID,\"'\",\"AND  sample.sample_name=\",\"'\",SPID,\"'\",sep=\"\")   \n",
    "    assay_table<- dbGetQuery(con, sqlStatement_assay)\n",
    "\n",
    "\n",
    "\n",
    "    ###need to add if it is genomic coordinates\n",
    "    ## making Grange\n",
    "    coord_all_table <- separate(data = assay_table, col = element_coordinate, into= c(\"seqnames\",\"start\",\"end\"))\n",
    "    gr = GRanges(seqnames = as.character(unlist(coord_all_table$seqnames)), \n",
    "    ranges = IRanges(as.numeric(unlist(coord_all_table$start)),\n",
    "    end=as.numeric(unlist(coord_all_table$end)),\n",
    "    names = unlist(coord_all_table$library_element_name)))\n",
    "    mcols(gr) = subset(coord_all_table,select=c(genome_build,sequence))\n",
    " \n",
    "    \n",
    "    \n",
    "    #### making SummarizedExperiment\n",
    "    SE1=SummarizedExperiment(assays=list(ActivityScore=(cbind(coord_all_table$REP1,\n",
    "                                                              coord_all_table$REP2,\n",
    "                                                              coord_all_table$REP3))),\n",
    "                             rowRanges=gr,\n",
    "                             colData=colData)\n",
    "    metadata(SE1)=metaData\n",
    "  ## for muliple sample, return user a SummarizedExperiment list\n",
    "   if(i <=1) {SE=SE1 \n",
    "              SE=list(SE)\n",
    "             } \n",
    "        else {SE = append(SE, SE1)}\n",
    "    }\n",
    "    return(SE)\n",
    "\n",
    "}\n"
   ]
  },
  {
   "cell_type": "code",
   "execution_count": 51,
   "id": "08433ae0-f49c-44d9-995e-e59ab4257fc9",
   "metadata": {},
   "outputs": [],
   "source": [
    "# load summary file\n",
    "summary <- read.table(\"../inst/summary.csv\", header=T, sep=',')"
   ]
  },
  {
   "cell_type": "code",
   "execution_count": 52,
   "id": "b48d7e3d-2395-4508-9d77-49a87191fcaa",
   "metadata": {},
   "outputs": [],
   "source": [
    "user_summary_dataframe <- filter(summary, GEO_number==\"GSE83894\")"
   ]
  },
  {
   "cell_type": "code",
   "execution_count": 53,
   "id": "f5581019-68e0-4569-b8e8-cf7e72ef7349",
   "metadata": {},
   "outputs": [
    {
     "data": {
      "text/html": [
       "<table class=\"dataframe\">\n",
       "<caption>A data.frame: 2 × 10</caption>\n",
       "<thead>\n",
       "\t<tr><th></th><th scope=col>PMID</th><th scope=col>GEO_number</th><th scope=col>SRP_number</th><th scope=col>labs</th><th scope=col>sample_name</th><th scope=col>number_of_elements</th><th scope=col>Library_strategy</th><th scope=col>Organism</th><th scope=col>Cell_line_tissue</th><th scope=col>DNA_RNA_reps</th></tr>\n",
       "\t<tr><th></th><th scope=col>&lt;int&gt;</th><th scope=col>&lt;chr&gt;</th><th scope=col>&lt;chr&gt;</th><th scope=col>&lt;chr&gt;</th><th scope=col>&lt;chr&gt;</th><th scope=col>&lt;chr&gt;</th><th scope=col>&lt;chr&gt;</th><th scope=col>&lt;chr&gt;</th><th scope=col>&lt;chr&gt;</th><th scope=col>&lt;int&gt;</th></tr>\n",
       "</thead>\n",
       "<tbody>\n",
       "\t<tr><th scope=row>1</th><td>27831498</td><td>GSE83894</td><td></td><td>Shendure,Ahituv</td><td>Mutant_integrase_HepG2   </td><td>2440</td><td>lentiMPRA</td><td>Homo sapiens</td><td>HepG2</td><td>3</td></tr>\n",
       "\t<tr><th scope=row>2</th><td>27831498</td><td>GSE83894</td><td></td><td>Shendure,Ahituv</td><td>Wild-type_integrase_HepG2</td><td>2440</td><td>lentiMPRA</td><td>Homo sapiens</td><td>HepG2</td><td>3</td></tr>\n",
       "</tbody>\n",
       "</table>\n"
      ],
      "text/latex": [
       "A data.frame: 2 × 10\n",
       "\\begin{tabular}{r|llllllllll}\n",
       "  & PMID & GEO\\_number & SRP\\_number & labs & sample\\_name & number\\_of\\_elements & Library\\_strategy & Organism & Cell\\_line\\_tissue & DNA\\_RNA\\_reps\\\\\n",
       "  & <int> & <chr> & <chr> & <chr> & <chr> & <chr> & <chr> & <chr> & <chr> & <int>\\\\\n",
       "\\hline\n",
       "\t1 & 27831498 & GSE83894 &  & Shendure,Ahituv & Mutant\\_integrase\\_HepG2    & 2440 & lentiMPRA & Homo sapiens & HepG2 & 3\\\\\n",
       "\t2 & 27831498 & GSE83894 &  & Shendure,Ahituv & Wild-type\\_integrase\\_HepG2 & 2440 & lentiMPRA & Homo sapiens & HepG2 & 3\\\\\n",
       "\\end{tabular}\n"
      ],
      "text/markdown": [
       "\n",
       "A data.frame: 2 × 10\n",
       "\n",
       "| <!--/--> | PMID &lt;int&gt; | GEO_number &lt;chr&gt; | SRP_number &lt;chr&gt; | labs &lt;chr&gt; | sample_name &lt;chr&gt; | number_of_elements &lt;chr&gt; | Library_strategy &lt;chr&gt; | Organism &lt;chr&gt; | Cell_line_tissue &lt;chr&gt; | DNA_RNA_reps &lt;int&gt; |\n",
       "|---|---|---|---|---|---|---|---|---|---|---|\n",
       "| 1 | 27831498 | GSE83894 | <!----> | Shendure,Ahituv | Mutant_integrase_HepG2    | 2440 | lentiMPRA | Homo sapiens | HepG2 | 3 |\n",
       "| 2 | 27831498 | GSE83894 | <!----> | Shendure,Ahituv | Wild-type_integrase_HepG2 | 2440 | lentiMPRA | Homo sapiens | HepG2 | 3 |\n",
       "\n"
      ],
      "text/plain": [
       "  PMID     GEO_number SRP_number labs            sample_name              \n",
       "1 27831498 GSE83894              Shendure,Ahituv Mutant_integrase_HepG2   \n",
       "2 27831498 GSE83894              Shendure,Ahituv Wild-type_integrase_HepG2\n",
       "  number_of_elements Library_strategy Organism     Cell_line_tissue\n",
       "1 2440               lentiMPRA        Homo sapiens HepG2           \n",
       "2 2440               lentiMPRA        Homo sapiens HepG2           \n",
       "  DNA_RNA_reps\n",
       "1 3           \n",
       "2 3           "
      ]
     },
     "metadata": {},
     "output_type": "display_data"
    }
   ],
   "source": [
    "head(user_summary_dataframe)"
   ]
  },
  {
   "cell_type": "code",
   "execution_count": 82,
   "id": "a927438f-44e9-4f7a-95c7-0a47f82be46b",
   "metadata": {},
   "outputs": [],
   "source": [
    "# Actions Items: 11.10.22\n",
    "# 1. assays(se[[1]])$ActivityScore - add sample names to column\n",
    "# 2. update env to support reference builds - example: library(BSgenome.Hsapiens.UCSC.hg38)\n",
    "# 3. update colData column names: Replicate-ID, Condition, Replicate-Type, Organism, Cell-Line-Tissue\n",
    "# 4. Generate 50 \"high quality\" SE objects (ideally with strand + oligos with & without adaptors)\n",
    "# 5. Condition 1: No genomic coordinates (synthetic oligos)\n",
    "#    Replace rowRanges with a dataframe (rows- element names, column (col.names: sequence)- raw sequence)\n",
    "# 6. Condition 2: mutagenesis (not original sequence)\n",
    "#    Are the ranges reported, REF/ALT allele + position (ideally strand- defined by the target (e.g., gene or transcript)?\n",
    "  \n",
    "# Example: how to pull sequence information\n",
    "# candidate_control_seqs <- BSgenome::getSeq(BSgenome.Hsapiens.UCSC.hg38,\n",
    "#                                            seqnames(promoters),\n",
    "#                                            start=start(promoters), end=end(promoters),\n",
    "#                                            strand=strand(promoters))\n",
    "\n",
    "\n",
    "se <- ExportSummarizedExperiment(user_summary_dataframe)"
   ]
  },
  {
   "cell_type": "code",
   "execution_count": 79,
   "id": "aea940ab-5640-4393-9f53-1a41b84cac2b",
   "metadata": {},
   "outputs": [],
   "source": [
    "rowData(se[[1]]) <- as.data.frame(rep('TCGA',dim(rowData(se[[1]]))[1]))"
   ]
  },
  {
   "cell_type": "code",
   "execution_count": null,
   "id": "21e076b2-5921-4d31-abb8-b07c86d95267",
   "metadata": {},
   "outputs": [
    {
     "data": {
      "text/plain": [
       "[[1]]\n",
       "class: RangedSummarizedExperiment \n",
       "dim: 2440 3 \n",
       "metadata(14): PMID GEO_number ... number_of_elements Reference\n",
       "assays(1): ActivityScore\n",
       "rownames(2440):\n",
       "  A:HNF4A-ChMod_chr10:11917871-11917984_[chr10:11917842-11918013]\n",
       "  A:HNF4A-ChMod_chr10:34165653-34165745_[chr10:34165613-34165784] ...\n",
       "  R:HNF4A-NoMod_chr9:98508868-98508933_[chr9:98508815-98508986]\n",
       "  R:HNF4A-NoMod_chrY:18213828-18213963_[chrY:18213810-18213981]\n",
       "rowData names(2): genome_build sequence\n",
       "colnames: NULL\n",
       "colData names(5): REP condition rep_type Organism Cell_line_tissue\n",
       "\n",
       "[[2]]\n",
       "class: RangedSummarizedExperiment \n",
       "dim: 2440 3 \n",
       "metadata(14): PMID GEO_number ... number_of_elements Reference\n",
       "assays(1): ActivityScore\n",
       "rownames(2440):\n",
       "  A:HNF4A-ChMod_chr10:11917871-11917984_[chr10:11917842-11918013]\n",
       "  A:HNF4A-ChMod_chr10:34165653-34165745_[chr10:34165613-34165784] ...\n",
       "  R:HNF4A-NoMod_chr9:98508868-98508933_[chr9:98508815-98508986]\n",
       "  R:HNF4A-NoMod_chrY:18213828-18213963_[chrY:18213810-18213981]\n",
       "rowData names(2): genome_build sequence\n",
       "colnames: NULL\n",
       "colData names(5): REP condition rep_type Organism Cell_line_tissue\n"
      ]
     },
     "metadata": {},
     "output_type": "display_data"
    }
   ],
   "source": [
    "se"
   ]
  },
  {
   "cell_type": "code",
   "execution_count": 19,
   "id": "5da61a7a-3337-494c-aff8-0edba728a93b",
   "metadata": {},
   "outputs": [
    {
     "data": {
      "text/plain": [
       "class: RangedSummarizedExperiment \n",
       "dim: 2440 3 \n",
       "metadata(14): PMID GEO_number ... number_of_elements Reference\n",
       "assays(1): ActivityScore\n",
       "rownames(2440):\n",
       "  A:HNF4A-ChMod_chr10:11917871-11917984_[chr10:11917842-11918013]\n",
       "  A:HNF4A-ChMod_chr10:34165653-34165745_[chr10:34165613-34165784] ...\n",
       "  R:HNF4A-NoMod_chr9:98508868-98508933_[chr9:98508815-98508986]\n",
       "  R:HNF4A-NoMod_chrY:18213828-18213963_[chrY:18213810-18213981]\n",
       "rowData names(2): genome_build sequence\n",
       "colnames: NULL\n",
       "colData names(5): REP condition rep_type Organism Cell_line_tissue"
      ]
     },
     "metadata": {},
     "output_type": "display_data"
    }
   ],
   "source": [
    "se[[1]]"
   ]
  },
  {
   "cell_type": "code",
   "execution_count": 37,
   "id": "6643ddec-4771-4fe2-b714-b73667fc9fad",
   "metadata": {},
   "outputs": [],
   "source": [
    "# Example: for condition 1 (no rowRanges slot) use the assays column and set name to SyntheticElement\n",
    "assays(se[[1]])$'SyntheticElements' <- assays(se[[1]])$ActivityScore-1"
   ]
  },
  {
   "cell_type": "code",
   "execution_count": 24,
   "id": "ad937828-643b-4df5-9ef4-c5c6cc443f1d",
   "metadata": {},
   "outputs": [
    {
     "data": {
      "text/plain": [
       "DataFrame with 3 rows and 5 columns\n",
       "        REP        condition    rep_type     Organism Cell_line_tissue\n",
       "  <integer>      <character> <character>  <character>      <character>\n",
       "1         1 Mutant integrase          NA Homo sapiens            HepG2\n",
       "2         2 Mutant integrase          NA Homo sapiens            HepG2\n",
       "3         3 Mutant integrase          NA Homo sapiens            HepG2"
      ]
     },
     "metadata": {},
     "output_type": "display_data"
    }
   ],
   "source": [
    "colData(se[[1]]) "
   ]
  },
  {
   "cell_type": "code",
   "execution_count": 26,
   "id": "9db9552f-1d68-4587-bfde-ae3c30b1b8e6",
   "metadata": {},
   "outputs": [
    {
     "data": {
      "text/html": [
       "<table class=\"dataframe\">\n",
       "<caption>A data.frame: 1 × 14</caption>\n",
       "<thead>\n",
       "\t<tr><th scope=col>PMID</th><th scope=col>GEO_number</th><th scope=col>SRP_number</th><th scope=col>labs</th><th scope=col>Library_strategy</th><th scope=col>Organism</th><th scope=col>Cell_line_tissue</th><th scope=col>sample_name</th><th scope=col>description</th><th scope=col>DNA_RNA_reps</th><th scope=col>element_position</th><th scope=col>rep_type</th><th scope=col>number_of_elements</th><th scope=col>Reference</th></tr>\n",
       "\t<tr><th scope=col>&lt;chr&gt;</th><th scope=col>&lt;chr&gt;</th><th scope=col>&lt;chr&gt;</th><th scope=col>&lt;chr&gt;</th><th scope=col>&lt;chr&gt;</th><th scope=col>&lt;chr&gt;</th><th scope=col>&lt;chr&gt;</th><th scope=col>&lt;chr&gt;</th><th scope=col>&lt;chr&gt;</th><th scope=col>&lt;chr&gt;</th><th scope=col>&lt;chr&gt;</th><th scope=col>&lt;chr&gt;</th><th scope=col>&lt;chr&gt;</th><th scope=col>&lt;chr&gt;</th></tr>\n",
       "</thead>\n",
       "<tbody>\n",
       "\t<tr><td>27831498</td><td>GSE83894</td><td></td><td>Shendure,Ahituv</td><td>lentiMPRA</td><td>Homo sapiens</td><td>HepG2</td><td>Mutant_integrase_HepG2</td><td>Mutant integrase</td><td>3</td><td>5'/3'</td><td>NA</td><td>2440</td><td>A systematic comparison reveals substantial differences in chromosomal versus episomal encoding of enhancer activity</td></tr>\n",
       "</tbody>\n",
       "</table>\n"
      ],
      "text/latex": [
       "A data.frame: 1 × 14\n",
       "\\begin{tabular}{llllllllllllll}\n",
       " PMID & GEO\\_number & SRP\\_number & labs & Library\\_strategy & Organism & Cell\\_line\\_tissue & sample\\_name & description & DNA\\_RNA\\_reps & element\\_position & rep\\_type & number\\_of\\_elements & Reference\\\\\n",
       " <chr> & <chr> & <chr> & <chr> & <chr> & <chr> & <chr> & <chr> & <chr> & <chr> & <chr> & <chr> & <chr> & <chr>\\\\\n",
       "\\hline\n",
       "\t 27831498 & GSE83894 &  & Shendure,Ahituv & lentiMPRA & Homo sapiens & HepG2 & Mutant\\_integrase\\_HepG2 & Mutant integrase & 3 & 5'/3' & NA & 2440 & A systematic comparison reveals substantial differences in chromosomal versus episomal encoding of enhancer activity\\\\\n",
       "\\end{tabular}\n"
      ],
      "text/markdown": [
       "\n",
       "A data.frame: 1 × 14\n",
       "\n",
       "| PMID &lt;chr&gt; | GEO_number &lt;chr&gt; | SRP_number &lt;chr&gt; | labs &lt;chr&gt; | Library_strategy &lt;chr&gt; | Organism &lt;chr&gt; | Cell_line_tissue &lt;chr&gt; | sample_name &lt;chr&gt; | description &lt;chr&gt; | DNA_RNA_reps &lt;chr&gt; | element_position &lt;chr&gt; | rep_type &lt;chr&gt; | number_of_elements &lt;chr&gt; | Reference &lt;chr&gt; |\n",
       "|---|---|---|---|---|---|---|---|---|---|---|---|---|---|\n",
       "| 27831498 | GSE83894 | <!----> | Shendure,Ahituv | lentiMPRA | Homo sapiens | HepG2 | Mutant_integrase_HepG2 | Mutant integrase | 3 | 5'/3' | NA | 2440 | A systematic comparison reveals substantial differences in chromosomal versus episomal encoding of enhancer activity |\n",
       "\n"
      ],
      "text/plain": [
       "  PMID     GEO_number SRP_number labs            Library_strategy Organism    \n",
       "1 27831498 GSE83894              Shendure,Ahituv lentiMPRA        Homo sapiens\n",
       "  Cell_line_tissue sample_name            description      DNA_RNA_reps\n",
       "1 HepG2            Mutant_integrase_HepG2 Mutant integrase 3           \n",
       "  element_position rep_type number_of_elements\n",
       "1 5'/3'            NA       2440              \n",
       "  Reference                                                                                                           \n",
       "1 A systematic comparison reveals substantial differences in chromosomal versus episomal encoding of enhancer activity"
      ]
     },
     "metadata": {},
     "output_type": "display_data"
    }
   ],
   "source": [
    "metadata(se[[1]])"
   ]
  }
 ],
 "metadata": {
  "kernelspec": {
   "display_name": "R",
   "language": "R",
   "name": "ir"
  },
  "language_info": {
   "codemirror_mode": "r",
   "file_extension": ".r",
   "mimetype": "text/x-r-source",
   "name": "R",
   "pygments_lexer": "r",
   "version": "4.1.3"
  }
 },
 "nbformat": 4,
 "nbformat_minor": 5
}
